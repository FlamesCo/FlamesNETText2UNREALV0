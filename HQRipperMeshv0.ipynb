{
 "cells": [
  {
   "cell_type": "code",
   "execution_count": 3,
   "metadata": {},
   "outputs": [],
   "source": [
    "## [HQ MESH RIPPER 0.1]\n",
    "## HALTMANN AGI [2022]"
   ]
  },
  {
   "cell_type": "markdown",
   "metadata": {},
   "source": [
    "# this is the mesh ripper project "
   ]
  },
  {
   "cell_type": "markdown",
   "metadata": {},
   "source": [
    "# line func 0 [WORK IN PROGRESS PROOF CODE TO FOLLOW TOMMOROW OR SOME OTHER DAY WHEN I FEEL BETTER]\n",
    "\n",
    " \n",
    "    import numpy as np\n",
    "import matplotlib.pyplot as plt\n",
    "from mpl_toolkits.mplot3d import Axes3D\n",
    "\n",
    "def make_3d_mesh(x, y, z):\n",
    "    fig = plt.figure()\n",
    "    ax = fig.add_subplot(111, projection='3d')\n",
    "    ax.plot_wireframe(x, y, z)\n",
    "    plt.show()\n",
    "    \n",
    "x = np.linspace(-5, 5, 10)\n",
    "y = np.linspace(-5, 5, 10)\n",
    "z = np.sin(x) * np.cos(y)\n",
    "\n",
    "make_3d_mesh(x, y, z)\n",
    " "
   ]
  },
  {
   "cell_type": "markdown",
   "metadata": {},
   "source": []
  },
  {
   "cell_type": "markdown",
   "metadata": {},
   "source": [
    "## now this part renders it in vqgan \n",
    "\n",
    "import numpy as np\n",
    "import matplotlib.pyplot as plt\n",
    "from mpl_toolkits.mplot3d import Axes3D\n",
    "from vqgan import VQGAN\n",
    "\n",
    "vqgan = VQGAN()\n",
    "vqgan.render_3d_model('unreal_model.obj')"
   ]
  },
  {
   "cell_type": "code",
   "execution_count": 4,
   "metadata": {},
   "outputs": [
    {
     "name": "stdout",
     "output_type": "stream",
     "text": [
      "zsh:1: bad pattern: generate_neural_mesh(input_size, output_size, hidden_layers, activation_function\n"
     ]
    }
   ],
   "source": [
    "\n",
    "!generate_neural_mesh(input_size, output_size, hidden_layers, activation_function"
   ]
  },
  {
   "cell_type": "markdown",
   "metadata": {},
   "source": [
    "\n",
    "import numpy as np\n",
    "import matplotlib.pyplot as plt\n",
    "from mpl_toolkits.mplot3d import Axes3D\n",
    "from vqgan import VQGAN\n",
    "\n",
    "!vqgan = VQGAN()\n",
    "\n",
    "!character = input('What character do you want to render? ')\n",
    "\n",
    "!vqgan.render_3d_model(f'{character}.obj', save_path=f'documents/{character}.png')"
   ]
  }
 ],
 "metadata": {
  "interpreter": {
   "hash": "31f2aee4e71d21fbe5cf8b01ff0e069b9275f58929596ceb00d14d90e3e16cd6"
  },
  "kernelspec": {
   "display_name": "Python 3.8.9 64-bit",
   "language": "python",
   "name": "python3"
  },
  "language_info": {
   "codemirror_mode": {
    "name": "ipython",
    "version": 3
   },
   "file_extension": ".py",
   "mimetype": "text/x-python",
   "name": "python",
   "nbconvert_exporter": "python",
   "pygments_lexer": "ipython3",
   "version": "3.8.9"
  },
  "orig_nbformat": 4
 },
 "nbformat": 4,
 "nbformat_minor": 2
}
